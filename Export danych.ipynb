{
 "cells": [
  {
   "cell_type": "code",
   "execution_count": 1,
   "id": "equivalent-fellow",
   "metadata": {},
   "outputs": [],
   "source": [
    "import pandas as pd\n",
    "import numpy as np"
   ]
  },
  {
   "cell_type": "code",
   "execution_count": 4,
   "id": "religious-apparel",
   "metadata": {},
   "outputs": [],
   "source": [
    "mcdonalds = pd.read_csv(\"d:/Data_Analysis/course-files/Mcdonalds.csv\", usecols=['Category','Item','Calories','TotalFat'])"
   ]
  },
  {
   "cell_type": "code",
   "execution_count": 6,
   "id": "pharmaceutical-inside",
   "metadata": {},
   "outputs": [],
   "source": [
    "mcdonalds.to_csv('mcdonalds.csv',index=False)"
   ]
  },
  {
   "cell_type": "code",
   "execution_count": 11,
   "id": "simple-replacement",
   "metadata": {},
   "outputs": [],
   "source": [
    "mcdonalds.to_csv('mcdonalds.csv', quotechar='\"')"
   ]
  },
  {
   "cell_type": "code",
   "execution_count": 17,
   "id": "comparative-savage",
   "metadata": {},
   "outputs": [],
   "source": [
    "mcdonalds.to_csv('mcdonalds.csv',index=False,quotechar='\"', decimal=',', columns=['Item','TotalFat'])"
   ]
  },
  {
   "cell_type": "code",
   "execution_count": 18,
   "id": "nutritional-serum",
   "metadata": {},
   "outputs": [],
   "source": [
    "mcdonalds.to_json('mc.json')"
   ]
  },
  {
   "cell_type": "code",
   "execution_count": 19,
   "id": "other-colleague",
   "metadata": {},
   "outputs": [],
   "source": [
    "html = mcdonalds.to_html()"
   ]
  },
  {
   "cell_type": "code",
   "execution_count": 21,
   "id": "premium-profile",
   "metadata": {},
   "outputs": [],
   "source": [
    "import io as io"
   ]
  },
  {
   "cell_type": "code",
   "execution_count": 25,
   "id": "metallic-establishment",
   "metadata": {},
   "outputs": [],
   "source": [
    "with io.open('mc-io.html',\"w\", encoding='utf-8') as file: file.write(html)"
   ]
  },
  {
   "cell_type": "code",
   "execution_count": null,
   "id": "improving-residence",
   "metadata": {},
   "outputs": [],
   "source": []
  }
 ],
 "metadata": {
  "kernelspec": {
   "display_name": "Python 3",
   "language": "python",
   "name": "python3"
  },
  "language_info": {
   "codemirror_mode": {
    "name": "ipython",
    "version": 3
   },
   "file_extension": ".py",
   "mimetype": "text/x-python",
   "name": "python",
   "nbconvert_exporter": "python",
   "pygments_lexer": "ipython3",
   "version": "3.8.8"
  }
 },
 "nbformat": 4,
 "nbformat_minor": 5
}
